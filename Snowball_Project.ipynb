{
  "nbformat": 4,
  "nbformat_minor": 0,
  "metadata": {
    "colab": {
      "name": "Snowball Project",
      "provenance": [],
      "collapsed_sections": []
    },
    "kernelspec": {
      "name": "python3",
      "display_name": "Python 3"
    }
  },
  "cells": [
    {
      "cell_type": "code",
      "metadata": {
        "id": "VrzcmKPZfNCM"
      },
      "source": [
        "import pandas as pd\n",
        "import matplotlib.pyplot as plt\n",
        "%matplotlib inline\n",
        "import seaborn as sns"
      ],
      "execution_count": null,
      "outputs": []
    },
    {
      "cell_type": "markdown",
      "metadata": {
        "id": "cJeQet3q7Mel"
      },
      "source": [
        "File Upload\n",
        "\n",
        "To access data set in Google Collaborate:\n",
        "\n",
        "1.   Run 2nd code block (right below these instructions)\n",
        "2.   Open the google link that appears in your browser\n",
        "3.   Allow Access to Google Cloud SDK\n",
        "4.   Copy the code\n",
        "5.   Go back to the notebook and paste it in 'Verification Code'\n",
        "6.   Hit enter\n",
        "7.   To see the data set, click on the link in the next code block"
      ]
    },
    {
      "cell_type": "code",
      "metadata": {
        "id": "fUzJBsBg7Lk8"
      },
      "source": [
        "# Code to read csv file into Colaboratory:\n",
        "!pip install -U -q PyDrive\n",
        "from pydrive.auth import GoogleAuth\n",
        "from pydrive.drive import GoogleDrive\n",
        "from google.colab import auth\n",
        "from oauth2client.client import GoogleCredentials\n",
        "# Authenticate and create the PyDrive client.\n",
        "auth.authenticate_user()\n",
        "gauth = GoogleAuth()\n",
        "gauth.credentials = GoogleCredentials.get_application_default()\n",
        "drive = GoogleDrive(gauth)"
      ],
      "execution_count": null,
      "outputs": []
    },
    {
      "cell_type": "code",
      "metadata": {
        "id": "0fOB1GHE7TvZ"
      },
      "source": [
        "link = 'https://drive.google.com/open?id=1c5yu4aFYSqIiVLJRkCLHl7M2nPL1de2X'"
      ],
      "execution_count": null,
      "outputs": []
    },
    {
      "cell_type": "code",
      "metadata": {
        "id": "YvQxs3Bh72UY",
        "colab": {
          "base_uri": "https://localhost:8080/"
        },
        "outputId": "619f4115-7a7a-4db3-ea0e-398fc9d4b672"
      },
      "source": [
        "fluff, id = link.split('=')\n",
        "print (id) # Verify that you have everything after '='"
      ],
      "execution_count": null,
      "outputs": [
        {
          "output_type": "stream",
          "text": [
            "1c5yu4aFYSqIiVLJRkCLHl7M2nPL1de2X\n"
          ],
          "name": "stdout"
        }
      ]
    },
    {
      "cell_type": "code",
      "metadata": {
        "id": "9t4lKYQZ758V"
      },
      "source": [
        "downloaded = drive.CreateFile({'id':id}) \n",
        "downloaded.GetContentFile('potential-impacts-world-food-supply.xls')  \n",
        "climate_data = pd.read_excel('potential-impacts-world-food-supply.xls', sheet_name='data')\n",
        "scenario_codes = pd.read_excel('potential-impacts-world-food-supply.xls', sheet_name='Scenario Codes')\n",
        "# Dataset is now stored in a Pandas Dataframe"
      ],
      "execution_count": null,
      "outputs": []
    },
    {
      "cell_type": "code",
      "metadata": {
        "id": "E-Nnu2jD_xG2",
        "colab": {
          "base_uri": "https://localhost:8080/",
          "height": 238
        },
        "outputId": "dc5089d5-0633-4e35-c2ec-77960add6fff"
      },
      "source": [
        "climate_data.head()"
      ],
      "execution_count": null,
      "outputs": [
        {
          "output_type": "execute_result",
          "data": {
            "text/html": [
              "<div>\n",
              "<style scoped>\n",
              "    .dataframe tbody tr th:only-of-type {\n",
              "        vertical-align: middle;\n",
              "    }\n",
              "\n",
              "    .dataframe tbody tr th {\n",
              "        vertical-align: top;\n",
              "    }\n",
              "\n",
              "    .dataframe thead th {\n",
              "        text-align: right;\n",
              "    }\n",
              "</style>\n",
              "<table border=\"1\" class=\"dataframe\">\n",
              "  <thead>\n",
              "    <tr style=\"text-align: right;\">\n",
              "      <th></th>\n",
              "      <th>File Code</th>\n",
              "      <th>BLS Code</th>\n",
              "      <th>BLS Region</th>\n",
              "      <th>BLS Region 2</th>\n",
              "      <th>Scenario Code</th>\n",
              "      <th>Scenario</th>\n",
              "      <th>Time_Slice</th>\n",
              "      <th>CO2 effects</th>\n",
              "      <th>CO2 ppm</th>\n",
              "      <th>Adapt- ation</th>\n",
              "      <th>wheat</th>\n",
              "      <th>rice</th>\n",
              "      <th>coarse grains</th>\n",
              "      <th>protein feed</th>\n",
              "      <th>Unnamed: 14</th>\n",
              "      <th>grains</th>\n",
              "      <th>four commo-dities</th>\n",
              "    </tr>\n",
              "  </thead>\n",
              "  <tbody>\n",
              "    <tr>\n",
              "      <th>0</th>\n",
              "      <td>1</td>\n",
              "      <td>9</td>\n",
              "      <td>Argentina</td>\n",
              "      <td>Argentina</td>\n",
              "      <td>1</td>\n",
              "      <td>GISS</td>\n",
              "      <td>Equilibrium</td>\n",
              "      <td>No</td>\n",
              "      <td>330</td>\n",
              "      <td>No</td>\n",
              "      <td>-46</td>\n",
              "      <td>-46</td>\n",
              "      <td>-17</td>\n",
              "      <td>-17</td>\n",
              "      <td>NaN</td>\n",
              "      <td>-36.333333</td>\n",
              "      <td>-31.50</td>\n",
              "    </tr>\n",
              "    <tr>\n",
              "      <th>1</th>\n",
              "      <td>1</td>\n",
              "      <td>9</td>\n",
              "      <td>Argentina</td>\n",
              "      <td>Argentina</td>\n",
              "      <td>2</td>\n",
              "      <td>GISS</td>\n",
              "      <td>Equilibrium</td>\n",
              "      <td>Yes</td>\n",
              "      <td>555</td>\n",
              "      <td>No</td>\n",
              "      <td>-34</td>\n",
              "      <td>-35</td>\n",
              "      <td>-13</td>\n",
              "      <td>0</td>\n",
              "      <td>NaN</td>\n",
              "      <td>-27.333333</td>\n",
              "      <td>-20.50</td>\n",
              "    </tr>\n",
              "    <tr>\n",
              "      <th>2</th>\n",
              "      <td>1</td>\n",
              "      <td>9</td>\n",
              "      <td>Argentina</td>\n",
              "      <td>Argentina</td>\n",
              "      <td>3</td>\n",
              "      <td>GISS</td>\n",
              "      <td>Equilibrium</td>\n",
              "      <td>Yes</td>\n",
              "      <td>555</td>\n",
              "      <td>Level 1</td>\n",
              "      <td>-15</td>\n",
              "      <td>-15</td>\n",
              "      <td>0</td>\n",
              "      <td>17</td>\n",
              "      <td>NaN</td>\n",
              "      <td>-10.000000</td>\n",
              "      <td>-3.25</td>\n",
              "    </tr>\n",
              "    <tr>\n",
              "      <th>3</th>\n",
              "      <td>1</td>\n",
              "      <td>9</td>\n",
              "      <td>Argentina</td>\n",
              "      <td>Argentina</td>\n",
              "      <td>4</td>\n",
              "      <td>GISS</td>\n",
              "      <td>Equilibrium</td>\n",
              "      <td>Yes</td>\n",
              "      <td>555</td>\n",
              "      <td>Level 2</td>\n",
              "      <td>0</td>\n",
              "      <td>0</td>\n",
              "      <td>0</td>\n",
              "      <td>17</td>\n",
              "      <td>NaN</td>\n",
              "      <td>0.000000</td>\n",
              "      <td>4.25</td>\n",
              "    </tr>\n",
              "    <tr>\n",
              "      <th>4</th>\n",
              "      <td>1</td>\n",
              "      <td>9</td>\n",
              "      <td>Argentina</td>\n",
              "      <td>Argentina</td>\n",
              "      <td>5</td>\n",
              "      <td>GFDL</td>\n",
              "      <td>Equilibrium</td>\n",
              "      <td>No</td>\n",
              "      <td>330</td>\n",
              "      <td>No</td>\n",
              "      <td>-43</td>\n",
              "      <td>-43</td>\n",
              "      <td>-28</td>\n",
              "      <td>-28</td>\n",
              "      <td>NaN</td>\n",
              "      <td>-38.000000</td>\n",
              "      <td>-35.50</td>\n",
              "    </tr>\n",
              "  </tbody>\n",
              "</table>\n",
              "</div>"
            ],
            "text/plain": [
              "   File Code  BLS Code BLS Region  ... Unnamed: 14     grains four commo-dities\n",
              "0          1         9  Argentina  ...         NaN -36.333333            -31.50\n",
              "1          1         9  Argentina  ...         NaN -27.333333            -20.50\n",
              "2          1         9  Argentina  ...         NaN -10.000000             -3.25\n",
              "3          1         9  Argentina  ...         NaN   0.000000              4.25\n",
              "4          1         9  Argentina  ...         NaN -38.000000            -35.50\n",
              "\n",
              "[5 rows x 17 columns]"
            ]
          },
          "metadata": {
            "tags": []
          },
          "execution_count": 6
        }
      ]
    },
    {
      "cell_type": "code",
      "metadata": {
        "id": "tzq_NixPAJUZ",
        "colab": {
          "base_uri": "https://localhost:8080/",
          "height": 204
        },
        "outputId": "095dfea5-3f41-4f42-fd32-3205c9f3df70"
      },
      "source": [
        "scenario_codes.head()"
      ],
      "execution_count": null,
      "outputs": [
        {
          "output_type": "execute_result",
          "data": {
            "text/html": [
              "<div>\n",
              "<style scoped>\n",
              "    .dataframe tbody tr th:only-of-type {\n",
              "        vertical-align: middle;\n",
              "    }\n",
              "\n",
              "    .dataframe tbody tr th {\n",
              "        vertical-align: top;\n",
              "    }\n",
              "\n",
              "    .dataframe thead th {\n",
              "        text-align: right;\n",
              "    }\n",
              "</style>\n",
              "<table border=\"1\" class=\"dataframe\">\n",
              "  <thead>\n",
              "    <tr style=\"text-align: right;\">\n",
              "      <th></th>\n",
              "      <th>Scenario Code</th>\n",
              "      <th>Scenario</th>\n",
              "      <th>Time_Slice</th>\n",
              "      <th>CO2 effects</th>\n",
              "      <th>CO2 ppm</th>\n",
              "      <th>Adaptation</th>\n",
              "      <th>Unnamed: 6</th>\n",
              "    </tr>\n",
              "  </thead>\n",
              "  <tbody>\n",
              "    <tr>\n",
              "      <th>0</th>\n",
              "      <td>1</td>\n",
              "      <td>GISS</td>\n",
              "      <td>Equilibrium</td>\n",
              "      <td>No</td>\n",
              "      <td>330</td>\n",
              "      <td>No</td>\n",
              "      <td>NaN</td>\n",
              "    </tr>\n",
              "    <tr>\n",
              "      <th>1</th>\n",
              "      <td>2</td>\n",
              "      <td>GISS</td>\n",
              "      <td>Equilibrium</td>\n",
              "      <td>Yes</td>\n",
              "      <td>555</td>\n",
              "      <td>No</td>\n",
              "      <td>NaN</td>\n",
              "    </tr>\n",
              "    <tr>\n",
              "      <th>2</th>\n",
              "      <td>3</td>\n",
              "      <td>GISS</td>\n",
              "      <td>Equilibrium</td>\n",
              "      <td>Yes</td>\n",
              "      <td>555</td>\n",
              "      <td>Level 1</td>\n",
              "      <td>NaN</td>\n",
              "    </tr>\n",
              "    <tr>\n",
              "      <th>3</th>\n",
              "      <td>4</td>\n",
              "      <td>GISS</td>\n",
              "      <td>Equilibrium</td>\n",
              "      <td>Yes</td>\n",
              "      <td>555</td>\n",
              "      <td>Level 2</td>\n",
              "      <td>NaN</td>\n",
              "    </tr>\n",
              "    <tr>\n",
              "      <th>4</th>\n",
              "      <td>5</td>\n",
              "      <td>GFDL</td>\n",
              "      <td>Equilibrium</td>\n",
              "      <td>No</td>\n",
              "      <td>330</td>\n",
              "      <td>No</td>\n",
              "      <td>NaN</td>\n",
              "    </tr>\n",
              "  </tbody>\n",
              "</table>\n",
              "</div>"
            ],
            "text/plain": [
              "   Scenario Code Scenario   Time_Slice  ... CO2 ppm  Adaptation Unnamed: 6\n",
              "0              1     GISS  Equilibrium  ...     330          No        NaN\n",
              "1              2     GISS  Equilibrium  ...     555          No        NaN\n",
              "2              3     GISS  Equilibrium  ...     555     Level 1        NaN\n",
              "3              4     GISS  Equilibrium  ...     555     Level 2        NaN\n",
              "4              5     GFDL  Equilibrium  ...     330          No        NaN\n",
              "\n",
              "[5 rows x 7 columns]"
            ]
          },
          "metadata": {
            "tags": []
          },
          "execution_count": 7
        }
      ]
    },
    {
      "cell_type": "code",
      "metadata": {
        "id": "G3BLtwEcAnRZ",
        "colab": {
          "base_uri": "https://localhost:8080/"
        },
        "outputId": "ef9270c1-5e99-435a-fcb7-352bf3195a4f"
      },
      "source": [
        "climate_data.info()"
      ],
      "execution_count": null,
      "outputs": [
        {
          "output_type": "stream",
          "text": [
            "<class 'pandas.core.frame.DataFrame'>\n",
            "RangeIndex: 1088 entries, 0 to 1087\n",
            "Data columns (total 17 columns):\n",
            " #   Column             Non-Null Count  Dtype  \n",
            "---  ------             --------------  -----  \n",
            " 0   File Code          1088 non-null   int64  \n",
            " 1   BLS Code           1088 non-null   int64  \n",
            " 2   BLS Region         1088 non-null   object \n",
            " 3   BLS Region 2       1088 non-null   object \n",
            " 4   Scenario Code      1088 non-null   int64  \n",
            " 5   Scenario           1088 non-null   object \n",
            " 6   Time_Slice         1088 non-null   object \n",
            " 7   CO2 effects        1088 non-null   object \n",
            " 8   CO2 ppm            1088 non-null   int64  \n",
            " 9   Adapt- ation       1088 non-null   object \n",
            " 10  wheat              1088 non-null   int64  \n",
            " 11  rice               1088 non-null   int64  \n",
            " 12  coarse grains      1088 non-null   int64  \n",
            " 13  protein feed       1088 non-null   int64  \n",
            " 14  Unnamed: 14        0 non-null      float64\n",
            " 15  grains             1088 non-null   float64\n",
            " 16  four commo-dities  1088 non-null   float64\n",
            "dtypes: float64(3), int64(8), object(6)\n",
            "memory usage: 144.6+ KB\n"
          ],
          "name": "stdout"
        }
      ]
    },
    {
      "cell_type": "code",
      "metadata": {
        "id": "P2XHiqiYLc6y",
        "colab": {
          "base_uri": "https://localhost:8080/",
          "height": 297
        },
        "outputId": "7223c76f-0ef9-4f97-f5bc-7d67d953360c"
      },
      "source": [
        "climate_data.describe()"
      ],
      "execution_count": null,
      "outputs": [
        {
          "output_type": "execute_result",
          "data": {
            "text/html": [
              "<div>\n",
              "<style scoped>\n",
              "    .dataframe tbody tr th:only-of-type {\n",
              "        vertical-align: middle;\n",
              "    }\n",
              "\n",
              "    .dataframe tbody tr th {\n",
              "        vertical-align: top;\n",
              "    }\n",
              "\n",
              "    .dataframe thead th {\n",
              "        text-align: right;\n",
              "    }\n",
              "</style>\n",
              "<table border=\"1\" class=\"dataframe\">\n",
              "  <thead>\n",
              "    <tr style=\"text-align: right;\">\n",
              "      <th></th>\n",
              "      <th>File Code</th>\n",
              "      <th>BLS Code</th>\n",
              "      <th>Scenario Code</th>\n",
              "      <th>CO2 ppm</th>\n",
              "      <th>wheat</th>\n",
              "      <th>rice</th>\n",
              "      <th>coarse grains</th>\n",
              "      <th>protein feed</th>\n",
              "      <th>Unnamed: 14</th>\n",
              "      <th>grains</th>\n",
              "      <th>four commo-dities</th>\n",
              "    </tr>\n",
              "  </thead>\n",
              "  <tbody>\n",
              "    <tr>\n",
              "      <th>count</th>\n",
              "      <td>1088.000000</td>\n",
              "      <td>1088.000000</td>\n",
              "      <td>1088.000000</td>\n",
              "      <td>1088.000000</td>\n",
              "      <td>1088.000000</td>\n",
              "      <td>1088.000000</td>\n",
              "      <td>1088.000000</td>\n",
              "      <td>1088.000000</td>\n",
              "      <td>0.0</td>\n",
              "      <td>1088.000000</td>\n",
              "      <td>1088.000000</td>\n",
              "    </tr>\n",
              "    <tr>\n",
              "      <th>mean</th>\n",
              "      <td>16.500000</td>\n",
              "      <td>479.437500</td>\n",
              "      <td>25.264706</td>\n",
              "      <td>453.441176</td>\n",
              "      <td>-10.056066</td>\n",
              "      <td>-10.006434</td>\n",
              "      <td>-11.458640</td>\n",
              "      <td>-5.479779</td>\n",
              "      <td>NaN</td>\n",
              "      <td>-10.507047</td>\n",
              "      <td>-9.250230</td>\n",
              "    </tr>\n",
              "    <tr>\n",
              "      <th>std</th>\n",
              "      <td>9.237339</td>\n",
              "      <td>396.618146</td>\n",
              "      <td>14.916997</td>\n",
              "      <td>115.364676</td>\n",
              "      <td>14.767115</td>\n",
              "      <td>13.092585</td>\n",
              "      <td>12.000465</td>\n",
              "      <td>13.624331</td>\n",
              "      <td>NaN</td>\n",
              "      <td>12.616622</td>\n",
              "      <td>12.468463</td>\n",
              "    </tr>\n",
              "    <tr>\n",
              "      <th>min</th>\n",
              "      <td>1.000000</td>\n",
              "      <td>9.000000</td>\n",
              "      <td>1.000000</td>\n",
              "      <td>330.000000</td>\n",
              "      <td>-73.000000</td>\n",
              "      <td>-73.000000</td>\n",
              "      <td>-68.000000</td>\n",
              "      <td>-58.000000</td>\n",
              "      <td>NaN</td>\n",
              "      <td>-71.333333</td>\n",
              "      <td>-68.000000</td>\n",
              "    </tr>\n",
              "    <tr>\n",
              "      <th>25%</th>\n",
              "      <td>8.750000</td>\n",
              "      <td>107.750000</td>\n",
              "      <td>9.000000</td>\n",
              "      <td>330.000000</td>\n",
              "      <td>-17.000000</td>\n",
              "      <td>-15.000000</td>\n",
              "      <td>-18.000000</td>\n",
              "      <td>-13.000000</td>\n",
              "      <td>NaN</td>\n",
              "      <td>-16.666667</td>\n",
              "      <td>-15.250000</td>\n",
              "    </tr>\n",
              "    <tr>\n",
              "      <th>50%</th>\n",
              "      <td>16.500000</td>\n",
              "      <td>227.000000</td>\n",
              "      <td>29.500000</td>\n",
              "      <td>466.500000</td>\n",
              "      <td>-7.000000</td>\n",
              "      <td>-7.000000</td>\n",
              "      <td>-10.000000</td>\n",
              "      <td>-5.000000</td>\n",
              "      <td>NaN</td>\n",
              "      <td>-7.666667</td>\n",
              "      <td>-6.875000</td>\n",
              "    </tr>\n",
              "    <tr>\n",
              "      <th>75%</th>\n",
              "      <td>24.250000</td>\n",
              "      <td>905.250000</td>\n",
              "      <td>38.000000</td>\n",
              "      <td>555.000000</td>\n",
              "      <td>0.000000</td>\n",
              "      <td>-1.000000</td>\n",
              "      <td>-3.000000</td>\n",
              "      <td>3.000000</td>\n",
              "      <td>NaN</td>\n",
              "      <td>-2.000000</td>\n",
              "      <td>-1.000000</td>\n",
              "    </tr>\n",
              "    <tr>\n",
              "      <th>max</th>\n",
              "      <td>32.000000</td>\n",
              "      <td>913.000000</td>\n",
              "      <td>46.000000</td>\n",
              "      <td>712.000000</td>\n",
              "      <td>31.000000</td>\n",
              "      <td>30.000000</td>\n",
              "      <td>25.000000</td>\n",
              "      <td>32.000000</td>\n",
              "      <td>NaN</td>\n",
              "      <td>27.666667</td>\n",
              "      <td>28.750000</td>\n",
              "    </tr>\n",
              "  </tbody>\n",
              "</table>\n",
              "</div>"
            ],
            "text/plain": [
              "         File Code     BLS Code  ...       grains  four commo-dities\n",
              "count  1088.000000  1088.000000  ...  1088.000000        1088.000000\n",
              "mean     16.500000   479.437500  ...   -10.507047          -9.250230\n",
              "std       9.237339   396.618146  ...    12.616622          12.468463\n",
              "min       1.000000     9.000000  ...   -71.333333         -68.000000\n",
              "25%       8.750000   107.750000  ...   -16.666667         -15.250000\n",
              "50%      16.500000   227.000000  ...    -7.666667          -6.875000\n",
              "75%      24.250000   905.250000  ...    -2.000000          -1.000000\n",
              "max      32.000000   913.000000  ...    27.666667          28.750000\n",
              "\n",
              "[8 rows x 11 columns]"
            ]
          },
          "metadata": {
            "tags": []
          },
          "execution_count": 17
        }
      ]
    },
    {
      "cell_type": "code",
      "metadata": {
        "id": "puY2C7PMLo9v"
      },
      "source": [
        "climate_data.corr()"
      ],
      "execution_count": null,
      "outputs": []
    },
    {
      "cell_type": "markdown",
      "metadata": {
        "id": "SLTJLgYDNLHC"
      },
      "source": [
        "Data Exploration"
      ]
    },
    {
      "cell_type": "code",
      "metadata": {
        "id": "-n5V9RKSquNE",
        "colab": {
          "base_uri": "https://localhost:8080/",
          "height": 238
        },
        "outputId": "253d2f4f-8a55-4c15-cf1a-49e7adb528c4"
      },
      "source": [
        "climate_data['avg_crop'] = climate_data[['wheat','rice','coarse grains','protein feed','grains','four commo-dities']].mean(axis=1)\n",
        "climate_data.head()"
      ],
      "execution_count": null,
      "outputs": [
        {
          "output_type": "execute_result",
          "data": {
            "text/html": [
              "<div>\n",
              "<style scoped>\n",
              "    .dataframe tbody tr th:only-of-type {\n",
              "        vertical-align: middle;\n",
              "    }\n",
              "\n",
              "    .dataframe tbody tr th {\n",
              "        vertical-align: top;\n",
              "    }\n",
              "\n",
              "    .dataframe thead th {\n",
              "        text-align: right;\n",
              "    }\n",
              "</style>\n",
              "<table border=\"1\" class=\"dataframe\">\n",
              "  <thead>\n",
              "    <tr style=\"text-align: right;\">\n",
              "      <th></th>\n",
              "      <th>File Code</th>\n",
              "      <th>BLS Code</th>\n",
              "      <th>BLS Region</th>\n",
              "      <th>BLS Region 2</th>\n",
              "      <th>Scenario Code</th>\n",
              "      <th>Scenario</th>\n",
              "      <th>Time_Slice</th>\n",
              "      <th>CO2 effects</th>\n",
              "      <th>CO2 ppm</th>\n",
              "      <th>Adapt- ation</th>\n",
              "      <th>wheat</th>\n",
              "      <th>rice</th>\n",
              "      <th>coarse grains</th>\n",
              "      <th>protein feed</th>\n",
              "      <th>Unnamed: 14</th>\n",
              "      <th>grains</th>\n",
              "      <th>four commo-dities</th>\n",
              "      <th>avg_crop</th>\n",
              "    </tr>\n",
              "  </thead>\n",
              "  <tbody>\n",
              "    <tr>\n",
              "      <th>0</th>\n",
              "      <td>1</td>\n",
              "      <td>9</td>\n",
              "      <td>Argentina</td>\n",
              "      <td>Argentina</td>\n",
              "      <td>1</td>\n",
              "      <td>GISS</td>\n",
              "      <td>Equilibrium</td>\n",
              "      <td>No</td>\n",
              "      <td>330</td>\n",
              "      <td>No</td>\n",
              "      <td>-46</td>\n",
              "      <td>-46</td>\n",
              "      <td>-17</td>\n",
              "      <td>-17</td>\n",
              "      <td>NaN</td>\n",
              "      <td>-36.333333</td>\n",
              "      <td>-31.50</td>\n",
              "      <td>-32.305556</td>\n",
              "    </tr>\n",
              "    <tr>\n",
              "      <th>1</th>\n",
              "      <td>1</td>\n",
              "      <td>9</td>\n",
              "      <td>Argentina</td>\n",
              "      <td>Argentina</td>\n",
              "      <td>2</td>\n",
              "      <td>GISS</td>\n",
              "      <td>Equilibrium</td>\n",
              "      <td>Yes</td>\n",
              "      <td>555</td>\n",
              "      <td>No</td>\n",
              "      <td>-34</td>\n",
              "      <td>-35</td>\n",
              "      <td>-13</td>\n",
              "      <td>0</td>\n",
              "      <td>NaN</td>\n",
              "      <td>-27.333333</td>\n",
              "      <td>-20.50</td>\n",
              "      <td>-21.638889</td>\n",
              "    </tr>\n",
              "    <tr>\n",
              "      <th>2</th>\n",
              "      <td>1</td>\n",
              "      <td>9</td>\n",
              "      <td>Argentina</td>\n",
              "      <td>Argentina</td>\n",
              "      <td>3</td>\n",
              "      <td>GISS</td>\n",
              "      <td>Equilibrium</td>\n",
              "      <td>Yes</td>\n",
              "      <td>555</td>\n",
              "      <td>Level 1</td>\n",
              "      <td>-15</td>\n",
              "      <td>-15</td>\n",
              "      <td>0</td>\n",
              "      <td>17</td>\n",
              "      <td>NaN</td>\n",
              "      <td>-10.000000</td>\n",
              "      <td>-3.25</td>\n",
              "      <td>-4.375000</td>\n",
              "    </tr>\n",
              "    <tr>\n",
              "      <th>3</th>\n",
              "      <td>1</td>\n",
              "      <td>9</td>\n",
              "      <td>Argentina</td>\n",
              "      <td>Argentina</td>\n",
              "      <td>4</td>\n",
              "      <td>GISS</td>\n",
              "      <td>Equilibrium</td>\n",
              "      <td>Yes</td>\n",
              "      <td>555</td>\n",
              "      <td>Level 2</td>\n",
              "      <td>0</td>\n",
              "      <td>0</td>\n",
              "      <td>0</td>\n",
              "      <td>17</td>\n",
              "      <td>NaN</td>\n",
              "      <td>0.000000</td>\n",
              "      <td>4.25</td>\n",
              "      <td>3.541667</td>\n",
              "    </tr>\n",
              "    <tr>\n",
              "      <th>4</th>\n",
              "      <td>1</td>\n",
              "      <td>9</td>\n",
              "      <td>Argentina</td>\n",
              "      <td>Argentina</td>\n",
              "      <td>5</td>\n",
              "      <td>GFDL</td>\n",
              "      <td>Equilibrium</td>\n",
              "      <td>No</td>\n",
              "      <td>330</td>\n",
              "      <td>No</td>\n",
              "      <td>-43</td>\n",
              "      <td>-43</td>\n",
              "      <td>-28</td>\n",
              "      <td>-28</td>\n",
              "      <td>NaN</td>\n",
              "      <td>-38.000000</td>\n",
              "      <td>-35.50</td>\n",
              "      <td>-35.916667</td>\n",
              "    </tr>\n",
              "  </tbody>\n",
              "</table>\n",
              "</div>"
            ],
            "text/plain": [
              "   File Code  BLS Code BLS Region  ...     grains  four commo-dities   avg_crop\n",
              "0          1         9  Argentina  ... -36.333333             -31.50 -32.305556\n",
              "1          1         9  Argentina  ... -27.333333             -20.50 -21.638889\n",
              "2          1         9  Argentina  ... -10.000000              -3.25  -4.375000\n",
              "3          1         9  Argentina  ...   0.000000               4.25   3.541667\n",
              "4          1         9  Argentina  ... -38.000000             -35.50 -35.916667\n",
              "\n",
              "[5 rows x 18 columns]"
            ]
          },
          "metadata": {
            "tags": []
          },
          "execution_count": 10
        }
      ]
    },
    {
      "cell_type": "code",
      "metadata": {
        "id": "W41DGVIRNExL",
        "colab": {
          "base_uri": "https://localhost:8080/",
          "height": 314
        },
        "outputId": "1a0b84c6-33d0-4396-c0ad-dc5a7fd073b3"
      },
      "source": [
        "import seaborn as sns\n",
        "graph = sns.barplot(x=\"Scenario Code\", y=\"avg_crop\", data = climate_data)\n",
        "title = \"Scenarios and Crop Production\"\n",
        "graph.set_title(title, size = 16)\n",
        "#graph.set_xticklabels(labels = climate_data['Scenario code'], font_size = 5)\n",
        "#graph.set_xlabel(\"Education\", size = 16)\n",
        "#graph.set_ylabel(\"Yearly Wage\", size = 16)\n",
        "print(graph)"
      ],
      "execution_count": null,
      "outputs": [
        {
          "output_type": "stream",
          "text": [
            "AxesSubplot(0.125,0.125;0.775x0.755)\n"
          ],
          "name": "stdout"
        },
        {
          "output_type": "display_data",
          "data": {
            "image/png": "[encoded data removed]",
            "text/plain": [
              "<Figure size 432x288 with 1 Axes>"
            ]
          },
          "metadata": {
            "tags": [],
            "needs_background": "light"
          }
        }
      ]
    },
    {
      "cell_type": "code",
      "metadata": {
        "id": "6Qxjr3RGtNpB",
        "colab": {
          "base_uri": "https://localhost:8080/",
          "height": 314
        },
        "outputId": "f9a86be1-a09e-4865-b48a-3b7c085e9968"
      },
      "source": [
        "#visualization of the CM3A cenario with co2 effects and level 1\n",
        "cm3a = climate_data.loc[(climate_data['Scenario Code'] == 26) | \n",
        "                        (climate_data['Scenario Code'] == 28) |\n",
        "                        (climate_data['Scenario Code'] == 30)] \n",
        "\n",
        "graph = sns.barplot(x=\"Region\", y=\"avg_crop\", data = cm3a)\n",
        "title = \"Scenarios and Crop Production\"\n",
        "graph.set_title(title, size = 16)\n",
        "\n"
      ],
      "execution_count": null,
      "outputs": [
        {
          "output_type": "execute_result",
          "data": {
            "text/plain": [
              "Text(0.5, 1.0, 'Scenarios and Crop Production')"
            ]
          },
          "metadata": {
            "tags": []
          },
          "execution_count": 25
        },
        {
          "output_type": "display_data",
          "data": {
            "image/png": "[encoded data removed]",
            "text/plain": [
              "<Figure size 432x288 with 1 Axes>"
            ]
          },
          "metadata": {
            "tags": [],
            "needs_background": "light"
          }
        }
      ]
    }
  ]
}